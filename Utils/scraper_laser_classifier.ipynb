{
  "cells": [
    {
      "cell_type": "code",
      "execution_count": 1,
      "metadata": {
        "colab": {
          "base_uri": "https://localhost:8080/"
        },
        "id": "a17f0271",
        "outputId": "f0e188f8-bc5b-490b-eaf6-239347cfb249"
      },
      "outputs": [
        {
          "output_type": "execute_result",
          "data": {
            "text/plain": [
              "[PhysicalDevice(name='/physical_device:CPU:0', device_type='CPU'),\n",
              " PhysicalDevice(name='/physical_device:GPU:0', device_type='GPU')]"
            ]
          },
          "metadata": {},
          "execution_count": 1
        }
      ],
      "source": [
        "import numpy as np\n",
        "import cv2\n",
        "import glob\n",
        "import matplotlib.pyplot as plt\n",
        "from tensorflow import keras\n",
        "import tensorflow as tf\n",
        "from tensorflow.keras.optimizers import Adam\n",
        "tf.config.get_visible_devices()"
      ],
      "id": "a17f0271"
    },
    {
      "cell_type": "code",
      "execution_count": 2,
      "metadata": {
        "colab": {
          "base_uri": "https://localhost:8080/"
        },
        "id": "tvtLBg8X-m6c",
        "outputId": "f68ca220-c33c-4b66-afd7-5d05194a6b77"
      },
      "outputs": [
        {
          "output_type": "stream",
          "name": "stdout",
          "text": [
            "Mounted at /content/drive\n"
          ]
        }
      ],
      "source": [
        "from google.colab import drive\n",
        "drive.mount('/content/drive')"
      ],
      "id": "tvtLBg8X-m6c"
    },
    {
      "cell_type": "code",
      "execution_count": 3,
      "metadata": {
        "id": "XiOd2BS_9x5U"
      },
      "outputs": [],
      "source": [
        "!unzip drive/MyDrive/data/GAN/laser-new.zip > /dev/null"
      ],
      "id": "XiOd2BS_9x5U"
    },
    {
      "cell_type": "code",
      "execution_count": 4,
      "metadata": {
        "id": "43294cb4"
      },
      "outputs": [],
      "source": [
        "image_train_gen = keras.preprocessing.image.ImageDataGenerator(width_shift_range=0.2,\n",
        "                                                         height_shift_range=0.2,\n",
        "                                                         rescale=1 / 255.,\n",
        "                                                         horizontal_flip=True,\n",
        "                                                         fill_mode=\"nearest\",\n",
        "                                                         validation_split=0.3\n",
        "                                                         )\n",
        "\n",
        "image_test_gen = keras.preprocessing.image.ImageDataGenerator(width_shift_range=0.2,\n",
        "                                                         height_shift_range=0.2,\n",
        "                                                         rescale=1 / 255.,\n",
        "                                                         horizontal_flip=True,\n",
        "                                                         fill_mode=\"nearest\"\n",
        "                                                         )"
      ],
      "id": "43294cb4"
    },
    {
      "cell_type": "code",
      "execution_count": 5,
      "metadata": {
        "colab": {
          "base_uri": "https://localhost:8080/"
        },
        "id": "7bb5b9ed",
        "outputId": "124215ac-6e07-4f7b-b033-31f004348a3b"
      },
      "outputs": [
        {
          "output_type": "stream",
          "name": "stdout",
          "text": [
            "Found 9423 images belonging to 2 classes.\n",
            "Found 4037 images belonging to 2 classes.\n"
          ]
        }
      ],
      "source": [
        "train_images = image_train_gen.flow_from_directory(\n",
        "    directory=\"laser-new/\",\n",
        "    color_mode=\"rgb\",\n",
        "    class_mode=\"binary\",\n",
        "    subset='training',\n",
        "    seed=42\n",
        "    )\n",
        "\n",
        "valid_images = image_train_gen.flow_from_directory(\n",
        "    directory=\"laser-new/\",\n",
        "    color_mode=\"rgb\",\n",
        "    class_mode=\"binary\",\n",
        "    subset='validation',\n",
        "    seed=42\n",
        "    )"
      ],
      "id": "7bb5b9ed"
    },
    {
      "cell_type": "code",
      "execution_count": null,
      "metadata": {
        "colab": {
          "base_uri": "https://localhost:8080/"
        },
        "id": "da4593c1",
        "outputId": "4647410b-d4bc-4edd-d9aa-841bcf3e71ab"
      },
      "outputs": [
        {
          "name": "stdout",
          "output_type": "stream",
          "text": [
            "Found 15534 images belonging to 2 classes.\n"
          ]
        }
      ],
      "source": [
        "test_images = image_test_gen.flow_from_directory(\n",
        "    directory=\"scraper-new/\",\n",
        "    color_mode=\"rgb\",\n",
        "    class_mode=\"binary\",\n",
        "    seed=42\n",
        "    )"
      ],
      "id": "da4593c1"
    },
    {
      "cell_type": "code",
      "execution_count": null,
      "metadata": {
        "id": "4e10ec6b"
      },
      "outputs": [],
      "source": [
        "for _ in range(5):\n",
        "    img, label = train_generator.next()\n",
        "    #print(img.shape)   #  (1,256,256,3)\n",
        "    #plt.imshow(img[0])\n",
        "    #plt.show()"
      ],
      "id": "4e10ec6b"
    },
    {
      "cell_type": "code",
      "execution_count": null,
      "metadata": {
        "colab": {
          "base_uri": "https://localhost:8080/"
        },
        "id": "acb9cc59",
        "outputId": "0caba96f-6c2a-4b1b-9c92-525a366c6cb5"
      },
      "outputs": [
        {
          "data": {
            "text/plain": [
              "(256, 256, 3)"
            ]
          },
          "execution_count": 12,
          "metadata": {},
          "output_type": "execute_result"
        }
      ],
      "source": [
        "train_images.image_shape"
      ],
      "id": "acb9cc59"
    },
    {
      "cell_type": "code",
      "execution_count": 6,
      "metadata": {
        "colab": {
          "base_uri": "https://localhost:8080/"
        },
        "id": "Ov7wEmb9aFZo",
        "outputId": "9640edbd-b75a-4068-80ef-0a32b62f590e"
      },
      "outputs": [
        {
          "output_type": "stream",
          "name": "stdout",
          "text": [
            "Model: \"sequential\"\n",
            "_________________________________________________________________\n",
            " Layer (type)                Output Shape              Param #   \n",
            "=================================================================\n",
            " conv2d (Conv2D)             (None, 256, 256, 32)      2432      \n",
            "                                                                 \n",
            " max_pooling2d (MaxPooling2D  (None, 128, 128, 32)     0         \n",
            " )                                                               \n",
            "                                                                 \n",
            " batch_normalization (BatchN  (None, 128, 128, 32)     128       \n",
            " ormalization)                                                   \n",
            "                                                                 \n",
            " dropout (Dropout)           (None, 128, 128, 32)      0         \n",
            "                                                                 \n",
            " conv2d_1 (Conv2D)           (None, 128, 128, 64)      51264     \n",
            "                                                                 \n",
            " max_pooling2d_1 (MaxPooling  (None, 64, 64, 64)       0         \n",
            " 2D)                                                             \n",
            "                                                                 \n",
            " batch_normalization_1 (Batc  (None, 64, 64, 64)       256       \n",
            " hNormalization)                                                 \n",
            "                                                                 \n",
            " dropout_1 (Dropout)         (None, 64, 64, 64)        0         \n",
            "                                                                 \n",
            " conv2d_2 (Conv2D)           (None, 64, 64, 128)       204928    \n",
            "                                                                 \n",
            " max_pooling2d_2 (MaxPooling  (None, 32, 32, 128)      0         \n",
            " 2D)                                                             \n",
            "                                                                 \n",
            " batch_normalization_2 (Batc  (None, 32, 32, 128)      512       \n",
            " hNormalization)                                                 \n",
            "                                                                 \n",
            " dropout_2 (Dropout)         (None, 32, 32, 128)       0         \n",
            "                                                                 \n",
            " conv2d_3 (Conv2D)           (None, 32, 32, 256)       819456    \n",
            "                                                                 \n",
            " max_pooling2d_3 (MaxPooling  (None, 16, 16, 256)      0         \n",
            " 2D)                                                             \n",
            "                                                                 \n",
            " batch_normalization_3 (Batc  (None, 16, 16, 256)      1024      \n",
            " hNormalization)                                                 \n",
            "                                                                 \n",
            " dropout_3 (Dropout)         (None, 16, 16, 256)       0         \n",
            "                                                                 \n",
            " flatten (Flatten)           (None, 65536)             0         \n",
            "                                                                 \n",
            " dense (Dense)               (None, 1)                 65537     \n",
            "                                                                 \n",
            "=================================================================\n",
            "Total params: 1,145,537\n",
            "Trainable params: 1,144,577\n",
            "Non-trainable params: 960\n",
            "_________________________________________________________________\n"
          ]
        }
      ],
      "source": [
        "model = keras.models.Sequential([\n",
        "    keras.layers.Conv2D(32, 5, padding=\"same\", activation=\"relu\", input_shape=(256,256,3)),\n",
        "    keras.layers.MaxPooling2D(2),\n",
        "    keras.layers.BatchNormalization(),    \n",
        "    keras.layers.Dropout(0.2),\n",
        "    keras.layers.Conv2D(64, 5, padding=\"same\", activation=\"relu\"),\n",
        "    keras.layers.MaxPooling2D(2),\n",
        "    keras.layers.BatchNormalization(),    \n",
        "    keras.layers.Dropout(0.2),\n",
        "    keras.layers.Conv2D(128, 5, padding=\"same\", activation=\"relu\"),\n",
        "    keras.layers.MaxPooling2D(2),\n",
        "    keras.layers.BatchNormalization(),    \n",
        "    keras.layers.Dropout(0.2),\n",
        "    keras.layers.Conv2D(256, 5, padding=\"same\", activation=\"relu\"),\n",
        "    keras.layers.MaxPooling2D(2),\n",
        "    keras.layers.BatchNormalization(),    \n",
        "    keras.layers.Dropout(0.2),\n",
        "    keras.layers.Flatten(),\n",
        "    keras.layers.Dense(1, activation='sigmoid') ]\n",
        ")\n",
        "\n",
        "model.summary()"
      ],
      "id": "Ov7wEmb9aFZo"
    },
    {
      "cell_type": "code",
      "execution_count": 7,
      "metadata": {
        "id": "b90e1472"
      },
      "outputs": [],
      "source": [
        "model.compile(loss=\"binary_crossentropy\",\n",
        "              optimizer=Adam(learning_rate=0.0002),\n",
        "              metrics=[\"accuracy\"])"
      ],
      "id": "b90e1472"
    },
    {
      "cell_type": "code",
      "execution_count": 8,
      "metadata": {
        "id": "bcaa0fe7"
      },
      "outputs": [],
      "source": [
        "early_stopping_cb = keras.callbacks.EarlyStopping(patience=10, restore_best_weights=True)\n",
        "checkpoint_cb = keras.callbacks.ModelCheckpoint(\"drive/MyDrive/models/GAN/laser-classifier-{epoch:02d}-{val_accuracy:.4f}.hdf5\",  monitor='val_accuracy', save_best_only=True)"
      ],
      "id": "bcaa0fe7"
    },
    {
      "cell_type": "code",
      "execution_count": 9,
      "metadata": {
        "colab": {
          "base_uri": "https://localhost:8080/",
          "height": 1000
        },
        "id": "7726552f",
        "outputId": "b4f92fec-85a1-48f4-f537-20b4792b6937"
      },
      "outputs": [
        {
          "output_type": "stream",
          "name": "stdout",
          "text": [
            "Epoch 1/100\n",
            "295/295 [==============================] - 201s 638ms/step - loss: 0.0148 - accuracy: 0.9956 - val_loss: 2.5768 - val_accuracy: 0.7563\n",
            "Epoch 2/100\n",
            "295/295 [==============================] - 186s 631ms/step - loss: 0.0107 - accuracy: 0.9978 - val_loss: 3.3389e-09 - val_accuracy: 1.0000\n",
            "Epoch 3/100\n",
            "295/295 [==============================] - 187s 633ms/step - loss: 0.0074 - accuracy: 0.9988 - val_loss: 0.0017 - val_accuracy: 0.9993\n",
            "Epoch 4/100\n",
            "295/295 [==============================] - 187s 635ms/step - loss: 0.0031 - accuracy: 0.9996 - val_loss: 4.2389e-17 - val_accuracy: 1.0000\n",
            "Epoch 5/100\n",
            "295/295 [==============================] - 187s 635ms/step - loss: 0.0094 - accuracy: 0.9993 - val_loss: 1.3552e-04 - val_accuracy: 1.0000\n",
            "Epoch 6/100\n",
            "295/295 [==============================] - 187s 633ms/step - loss: 0.0042 - accuracy: 0.9994 - val_loss: 1.6961e-15 - val_accuracy: 1.0000\n",
            "Epoch 7/100\n",
            "295/295 [==============================] - 188s 638ms/step - loss: 0.0149 - accuracy: 0.9993 - val_loss: 8.5024e-07 - val_accuracy: 1.0000\n",
            "Epoch 8/100\n",
            "295/295 [==============================] - 187s 634ms/step - loss: 0.0011 - accuracy: 0.9998 - val_loss: 2.8492e-20 - val_accuracy: 1.0000\n",
            "Epoch 9/100\n",
            "295/295 [==============================] - 186s 631ms/step - loss: 0.0079 - accuracy: 0.9992 - val_loss: 6.3892e-17 - val_accuracy: 1.0000\n",
            "Epoch 10/100\n",
            "295/295 [==============================] - 185s 628ms/step - loss: 0.0183 - accuracy: 0.9988 - val_loss: 4.5795e-11 - val_accuracy: 1.0000\n",
            "Epoch 11/100\n",
            "295/295 [==============================] - 184s 625ms/step - loss: 0.0061 - accuracy: 0.9990 - val_loss: 4.4468e-20 - val_accuracy: 1.0000\n",
            "Epoch 12/100\n",
            "295/295 [==============================] - 185s 628ms/step - loss: 0.0061 - accuracy: 0.9997 - val_loss: 1.1755e-25 - val_accuracy: 1.0000\n",
            "Epoch 13/100\n",
            "295/295 [==============================] - 186s 632ms/step - loss: 0.0019 - accuracy: 0.9998 - val_loss: 7.1487e-14 - val_accuracy: 1.0000\n",
            "Epoch 14/100\n",
            "295/295 [==============================] - 188s 637ms/step - loss: 1.7828e-06 - accuracy: 1.0000 - val_loss: 4.9664e-15 - val_accuracy: 1.0000\n",
            "Epoch 15/100\n",
            "295/295 [==============================] - 185s 628ms/step - loss: 4.8976e-06 - accuracy: 1.0000 - val_loss: 3.7688e-11 - val_accuracy: 1.0000\n",
            "Epoch 16/100\n",
            "295/295 [==============================] - 186s 630ms/step - loss: 8.8144e-13 - accuracy: 1.0000 - val_loss: 7.9411e-14 - val_accuracy: 1.0000\n",
            "Epoch 17/100\n",
            "295/295 [==============================] - 186s 630ms/step - loss: 5.0573e-13 - accuracy: 1.0000 - val_loss: 1.2011e-14 - val_accuracy: 1.0000\n",
            "Epoch 18/100\n",
            "295/295 [==============================] - 185s 627ms/step - loss: 0.0025 - accuracy: 0.9996 - val_loss: 3.3634e-13 - val_accuracy: 1.0000\n",
            "Epoch 19/100\n",
            "295/295 [==============================] - 187s 635ms/step - loss: 6.2599e-07 - accuracy: 1.0000 - val_loss: 3.8735e-15 - val_accuracy: 1.0000\n",
            "Epoch 20/100\n",
            "295/295 [==============================] - 184s 625ms/step - loss: 0.0082 - accuracy: 0.9994 - val_loss: 0.0012 - val_accuracy: 0.9998\n",
            "Epoch 21/100\n",
            "295/295 [==============================] - 186s 632ms/step - loss: 0.0099 - accuracy: 0.9992 - val_loss: 1.4244e-27 - val_accuracy: 1.0000\n",
            "Epoch 22/100\n",
            "295/295 [==============================] - 185s 628ms/step - loss: 0.0155 - accuracy: 0.9993 - val_loss: 5.1087e-16 - val_accuracy: 1.0000\n",
            "Epoch 23/100\n",
            "295/295 [==============================] - 186s 631ms/step - loss: 0.0073 - accuracy: 0.9998 - val_loss: 9.0540e-27 - val_accuracy: 1.0000\n",
            "Epoch 24/100\n",
            "295/295 [==============================] - 186s 630ms/step - loss: 0.0042 - accuracy: 0.9998 - val_loss: 9.0880e-22 - val_accuracy: 1.0000\n",
            "Epoch 25/100\n",
            "295/295 [==============================] - 185s 626ms/step - loss: 1.7340e-06 - accuracy: 1.0000 - val_loss: 5.3397e-19 - val_accuracy: 1.0000\n",
            "Epoch 26/100\n",
            "295/295 [==============================] - 186s 631ms/step - loss: 0.0046 - accuracy: 0.9997 - val_loss: 1.5907e-15 - val_accuracy: 1.0000\n",
            "Epoch 27/100\n",
            "295/295 [==============================] - 187s 633ms/step - loss: 0.0050 - accuracy: 0.9999 - val_loss: 3.0574e-32 - val_accuracy: 1.0000\n",
            "Epoch 28/100\n",
            "295/295 [==============================] - 185s 627ms/step - loss: 0.0050 - accuracy: 0.9998 - val_loss: 3.4810e-27 - val_accuracy: 1.0000\n",
            "Epoch 29/100\n",
            "295/295 [==============================] - 188s 638ms/step - loss: 1.1133e-04 - accuracy: 0.9999 - val_loss: 3.3635e-23 - val_accuracy: 1.0000\n",
            "Epoch 30/100\n",
            "295/295 [==============================] - 193s 654ms/step - loss: 0.0144 - accuracy: 0.9995 - val_loss: 2.0608e-09 - val_accuracy: 1.0000\n",
            "Epoch 31/100\n",
            "278/295 [===========================>..] - ETA: 7s - loss: 0.0015 - accuracy: 0.9998"
          ]
        },
        {
          "output_type": "error",
          "ename": "KeyboardInterrupt",
          "evalue": "ignored",
          "traceback": [
            "\u001b[0;31m---------------------------------------------------------------------------\u001b[0m",
            "\u001b[0;31mKeyboardInterrupt\u001b[0m                         Traceback (most recent call last)",
            "\u001b[0;32m<ipython-input-9-ebd4378d78b4>\u001b[0m in \u001b[0;36m<module>\u001b[0;34m()\u001b[0m\n\u001b[0;32m----> 1\u001b[0;31m \u001b[0mhistory\u001b[0m \u001b[0;34m=\u001b[0m \u001b[0mmodel\u001b[0m\u001b[0;34m.\u001b[0m\u001b[0mfit\u001b[0m\u001b[0;34m(\u001b[0m\u001b[0mtrain_images\u001b[0m\u001b[0;34m,\u001b[0m \u001b[0mepochs\u001b[0m\u001b[0;34m=\u001b[0m\u001b[0;36m100\u001b[0m\u001b[0;34m,\u001b[0m \u001b[0mvalidation_data\u001b[0m\u001b[0;34m=\u001b[0m\u001b[0mvalid_images\u001b[0m\u001b[0;34m,\u001b[0m \u001b[0mcallbacks\u001b[0m\u001b[0;34m=\u001b[0m\u001b[0;34m[\u001b[0m\u001b[0mearly_stopping_cb\u001b[0m\u001b[0;34m,\u001b[0m \u001b[0mcheckpoint_cb\u001b[0m\u001b[0;34m]\u001b[0m\u001b[0;34m)\u001b[0m\u001b[0;34m\u001b[0m\u001b[0;34m\u001b[0m\u001b[0m\n\u001b[0m",
            "\u001b[0;32m/usr/local/lib/python3.7/dist-packages/keras/utils/traceback_utils.py\u001b[0m in \u001b[0;36merror_handler\u001b[0;34m(*args, **kwargs)\u001b[0m\n\u001b[1;32m     62\u001b[0m     \u001b[0mfiltered_tb\u001b[0m \u001b[0;34m=\u001b[0m \u001b[0;32mNone\u001b[0m\u001b[0;34m\u001b[0m\u001b[0;34m\u001b[0m\u001b[0m\n\u001b[1;32m     63\u001b[0m     \u001b[0;32mtry\u001b[0m\u001b[0;34m:\u001b[0m\u001b[0;34m\u001b[0m\u001b[0;34m\u001b[0m\u001b[0m\n\u001b[0;32m---> 64\u001b[0;31m       \u001b[0;32mreturn\u001b[0m \u001b[0mfn\u001b[0m\u001b[0;34m(\u001b[0m\u001b[0;34m*\u001b[0m\u001b[0margs\u001b[0m\u001b[0;34m,\u001b[0m \u001b[0;34m**\u001b[0m\u001b[0mkwargs\u001b[0m\u001b[0;34m)\u001b[0m\u001b[0;34m\u001b[0m\u001b[0;34m\u001b[0m\u001b[0m\n\u001b[0m\u001b[1;32m     65\u001b[0m     \u001b[0;32mexcept\u001b[0m \u001b[0mException\u001b[0m \u001b[0;32mas\u001b[0m \u001b[0me\u001b[0m\u001b[0;34m:\u001b[0m  \u001b[0;31m# pylint: disable=broad-except\u001b[0m\u001b[0;34m\u001b[0m\u001b[0;34m\u001b[0m\u001b[0m\n\u001b[1;32m     66\u001b[0m       \u001b[0mfiltered_tb\u001b[0m \u001b[0;34m=\u001b[0m \u001b[0m_process_traceback_frames\u001b[0m\u001b[0;34m(\u001b[0m\u001b[0me\u001b[0m\u001b[0;34m.\u001b[0m\u001b[0m__traceback__\u001b[0m\u001b[0;34m)\u001b[0m\u001b[0;34m\u001b[0m\u001b[0;34m\u001b[0m\u001b[0m\n",
            "\u001b[0;32m/usr/local/lib/python3.7/dist-packages/keras/engine/training.py\u001b[0m in \u001b[0;36mfit\u001b[0;34m(self, x, y, batch_size, epochs, verbose, callbacks, validation_split, validation_data, shuffle, class_weight, sample_weight, initial_epoch, steps_per_epoch, validation_steps, validation_batch_size, validation_freq, max_queue_size, workers, use_multiprocessing)\u001b[0m\n\u001b[1;32m   1382\u001b[0m                 _r=1):\n\u001b[1;32m   1383\u001b[0m               \u001b[0mcallbacks\u001b[0m\u001b[0;34m.\u001b[0m\u001b[0mon_train_batch_begin\u001b[0m\u001b[0;34m(\u001b[0m\u001b[0mstep\u001b[0m\u001b[0;34m)\u001b[0m\u001b[0;34m\u001b[0m\u001b[0;34m\u001b[0m\u001b[0m\n\u001b[0;32m-> 1384\u001b[0;31m               \u001b[0mtmp_logs\u001b[0m \u001b[0;34m=\u001b[0m \u001b[0mself\u001b[0m\u001b[0;34m.\u001b[0m\u001b[0mtrain_function\u001b[0m\u001b[0;34m(\u001b[0m\u001b[0miterator\u001b[0m\u001b[0;34m)\u001b[0m\u001b[0;34m\u001b[0m\u001b[0;34m\u001b[0m\u001b[0m\n\u001b[0m\u001b[1;32m   1385\u001b[0m               \u001b[0;32mif\u001b[0m \u001b[0mdata_handler\u001b[0m\u001b[0;34m.\u001b[0m\u001b[0mshould_sync\u001b[0m\u001b[0;34m:\u001b[0m\u001b[0;34m\u001b[0m\u001b[0;34m\u001b[0m\u001b[0m\n\u001b[1;32m   1386\u001b[0m                 \u001b[0mcontext\u001b[0m\u001b[0;34m.\u001b[0m\u001b[0masync_wait\u001b[0m\u001b[0;34m(\u001b[0m\u001b[0;34m)\u001b[0m\u001b[0;34m\u001b[0m\u001b[0;34m\u001b[0m\u001b[0m\n",
            "\u001b[0;32m/usr/local/lib/python3.7/dist-packages/tensorflow/python/util/traceback_utils.py\u001b[0m in \u001b[0;36merror_handler\u001b[0;34m(*args, **kwargs)\u001b[0m\n\u001b[1;32m    148\u001b[0m     \u001b[0mfiltered_tb\u001b[0m \u001b[0;34m=\u001b[0m \u001b[0;32mNone\u001b[0m\u001b[0;34m\u001b[0m\u001b[0;34m\u001b[0m\u001b[0m\n\u001b[1;32m    149\u001b[0m     \u001b[0;32mtry\u001b[0m\u001b[0;34m:\u001b[0m\u001b[0;34m\u001b[0m\u001b[0;34m\u001b[0m\u001b[0m\n\u001b[0;32m--> 150\u001b[0;31m       \u001b[0;32mreturn\u001b[0m \u001b[0mfn\u001b[0m\u001b[0;34m(\u001b[0m\u001b[0;34m*\u001b[0m\u001b[0margs\u001b[0m\u001b[0;34m,\u001b[0m \u001b[0;34m**\u001b[0m\u001b[0mkwargs\u001b[0m\u001b[0;34m)\u001b[0m\u001b[0;34m\u001b[0m\u001b[0;34m\u001b[0m\u001b[0m\n\u001b[0m\u001b[1;32m    151\u001b[0m     \u001b[0;32mexcept\u001b[0m \u001b[0mException\u001b[0m \u001b[0;32mas\u001b[0m \u001b[0me\u001b[0m\u001b[0;34m:\u001b[0m\u001b[0;34m\u001b[0m\u001b[0;34m\u001b[0m\u001b[0m\n\u001b[1;32m    152\u001b[0m       \u001b[0mfiltered_tb\u001b[0m \u001b[0;34m=\u001b[0m \u001b[0m_process_traceback_frames\u001b[0m\u001b[0;34m(\u001b[0m\u001b[0me\u001b[0m\u001b[0;34m.\u001b[0m\u001b[0m__traceback__\u001b[0m\u001b[0;34m)\u001b[0m\u001b[0;34m\u001b[0m\u001b[0;34m\u001b[0m\u001b[0m\n",
            "\u001b[0;32m/usr/local/lib/python3.7/dist-packages/tensorflow/python/eager/def_function.py\u001b[0m in \u001b[0;36m__call__\u001b[0;34m(self, *args, **kwds)\u001b[0m\n\u001b[1;32m    913\u001b[0m \u001b[0;34m\u001b[0m\u001b[0m\n\u001b[1;32m    914\u001b[0m       \u001b[0;32mwith\u001b[0m \u001b[0mOptionalXlaContext\u001b[0m\u001b[0;34m(\u001b[0m\u001b[0mself\u001b[0m\u001b[0;34m.\u001b[0m\u001b[0m_jit_compile\u001b[0m\u001b[0;34m)\u001b[0m\u001b[0;34m:\u001b[0m\u001b[0;34m\u001b[0m\u001b[0;34m\u001b[0m\u001b[0m\n\u001b[0;32m--> 915\u001b[0;31m         \u001b[0mresult\u001b[0m \u001b[0;34m=\u001b[0m \u001b[0mself\u001b[0m\u001b[0;34m.\u001b[0m\u001b[0m_call\u001b[0m\u001b[0;34m(\u001b[0m\u001b[0;34m*\u001b[0m\u001b[0margs\u001b[0m\u001b[0;34m,\u001b[0m \u001b[0;34m**\u001b[0m\u001b[0mkwds\u001b[0m\u001b[0;34m)\u001b[0m\u001b[0;34m\u001b[0m\u001b[0;34m\u001b[0m\u001b[0m\n\u001b[0m\u001b[1;32m    916\u001b[0m \u001b[0;34m\u001b[0m\u001b[0m\n\u001b[1;32m    917\u001b[0m       \u001b[0mnew_tracing_count\u001b[0m \u001b[0;34m=\u001b[0m \u001b[0mself\u001b[0m\u001b[0;34m.\u001b[0m\u001b[0mexperimental_get_tracing_count\u001b[0m\u001b[0;34m(\u001b[0m\u001b[0;34m)\u001b[0m\u001b[0;34m\u001b[0m\u001b[0;34m\u001b[0m\u001b[0m\n",
            "\u001b[0;32m/usr/local/lib/python3.7/dist-packages/tensorflow/python/eager/def_function.py\u001b[0m in \u001b[0;36m_call\u001b[0;34m(self, *args, **kwds)\u001b[0m\n\u001b[1;32m    945\u001b[0m       \u001b[0;31m# In this case we have created variables on the first call, so we run the\u001b[0m\u001b[0;34m\u001b[0m\u001b[0;34m\u001b[0m\u001b[0;34m\u001b[0m\u001b[0m\n\u001b[1;32m    946\u001b[0m       \u001b[0;31m# defunned version which is guaranteed to never create variables.\u001b[0m\u001b[0;34m\u001b[0m\u001b[0;34m\u001b[0m\u001b[0;34m\u001b[0m\u001b[0m\n\u001b[0;32m--> 947\u001b[0;31m       \u001b[0;32mreturn\u001b[0m \u001b[0mself\u001b[0m\u001b[0;34m.\u001b[0m\u001b[0m_stateless_fn\u001b[0m\u001b[0;34m(\u001b[0m\u001b[0;34m*\u001b[0m\u001b[0margs\u001b[0m\u001b[0;34m,\u001b[0m \u001b[0;34m**\u001b[0m\u001b[0mkwds\u001b[0m\u001b[0;34m)\u001b[0m  \u001b[0;31m# pylint: disable=not-callable\u001b[0m\u001b[0;34m\u001b[0m\u001b[0;34m\u001b[0m\u001b[0m\n\u001b[0m\u001b[1;32m    948\u001b[0m     \u001b[0;32melif\u001b[0m \u001b[0mself\u001b[0m\u001b[0;34m.\u001b[0m\u001b[0m_stateful_fn\u001b[0m \u001b[0;32mis\u001b[0m \u001b[0;32mnot\u001b[0m \u001b[0;32mNone\u001b[0m\u001b[0;34m:\u001b[0m\u001b[0;34m\u001b[0m\u001b[0;34m\u001b[0m\u001b[0m\n\u001b[1;32m    949\u001b[0m       \u001b[0;31m# Release the lock early so that multiple threads can perform the call\u001b[0m\u001b[0;34m\u001b[0m\u001b[0;34m\u001b[0m\u001b[0;34m\u001b[0m\u001b[0m\n",
            "\u001b[0;32m/usr/local/lib/python3.7/dist-packages/tensorflow/python/eager/function.py\u001b[0m in \u001b[0;36m__call__\u001b[0;34m(self, *args, **kwargs)\u001b[0m\n\u001b[1;32m   2955\u001b[0m        filtered_flat_args) = self._maybe_define_function(args, kwargs)\n\u001b[1;32m   2956\u001b[0m     return graph_function._call_flat(\n\u001b[0;32m-> 2957\u001b[0;31m         filtered_flat_args, captured_inputs=graph_function.captured_inputs)  # pylint: disable=protected-access\n\u001b[0m\u001b[1;32m   2958\u001b[0m \u001b[0;34m\u001b[0m\u001b[0m\n\u001b[1;32m   2959\u001b[0m   \u001b[0;34m@\u001b[0m\u001b[0mproperty\u001b[0m\u001b[0;34m\u001b[0m\u001b[0;34m\u001b[0m\u001b[0m\n",
            "\u001b[0;32m/usr/local/lib/python3.7/dist-packages/tensorflow/python/eager/function.py\u001b[0m in \u001b[0;36m_call_flat\u001b[0;34m(self, args, captured_inputs, cancellation_manager)\u001b[0m\n\u001b[1;32m   1852\u001b[0m       \u001b[0;31m# No tape is watching; skip to running the function.\u001b[0m\u001b[0;34m\u001b[0m\u001b[0;34m\u001b[0m\u001b[0;34m\u001b[0m\u001b[0m\n\u001b[1;32m   1853\u001b[0m       return self._build_call_outputs(self._inference_function.call(\n\u001b[0;32m-> 1854\u001b[0;31m           ctx, args, cancellation_manager=cancellation_manager))\n\u001b[0m\u001b[1;32m   1855\u001b[0m     forward_backward = self._select_forward_and_backward_functions(\n\u001b[1;32m   1856\u001b[0m         \u001b[0margs\u001b[0m\u001b[0;34m,\u001b[0m\u001b[0;34m\u001b[0m\u001b[0;34m\u001b[0m\u001b[0m\n",
            "\u001b[0;32m/usr/local/lib/python3.7/dist-packages/tensorflow/python/eager/function.py\u001b[0m in \u001b[0;36mcall\u001b[0;34m(self, ctx, args, cancellation_manager)\u001b[0m\n\u001b[1;32m    502\u001b[0m               \u001b[0minputs\u001b[0m\u001b[0;34m=\u001b[0m\u001b[0margs\u001b[0m\u001b[0;34m,\u001b[0m\u001b[0;34m\u001b[0m\u001b[0;34m\u001b[0m\u001b[0m\n\u001b[1;32m    503\u001b[0m               \u001b[0mattrs\u001b[0m\u001b[0;34m=\u001b[0m\u001b[0mattrs\u001b[0m\u001b[0;34m,\u001b[0m\u001b[0;34m\u001b[0m\u001b[0;34m\u001b[0m\u001b[0m\n\u001b[0;32m--> 504\u001b[0;31m               ctx=ctx)\n\u001b[0m\u001b[1;32m    505\u001b[0m         \u001b[0;32melse\u001b[0m\u001b[0;34m:\u001b[0m\u001b[0;34m\u001b[0m\u001b[0;34m\u001b[0m\u001b[0m\n\u001b[1;32m    506\u001b[0m           outputs = execute.execute_with_cancellation(\n",
            "\u001b[0;32m/usr/local/lib/python3.7/dist-packages/tensorflow/python/eager/execute.py\u001b[0m in \u001b[0;36mquick_execute\u001b[0;34m(op_name, num_outputs, inputs, attrs, ctx, name)\u001b[0m\n\u001b[1;32m     53\u001b[0m     \u001b[0mctx\u001b[0m\u001b[0;34m.\u001b[0m\u001b[0mensure_initialized\u001b[0m\u001b[0;34m(\u001b[0m\u001b[0;34m)\u001b[0m\u001b[0;34m\u001b[0m\u001b[0;34m\u001b[0m\u001b[0m\n\u001b[1;32m     54\u001b[0m     tensors = pywrap_tfe.TFE_Py_Execute(ctx._handle, device_name, op_name,\n\u001b[0;32m---> 55\u001b[0;31m                                         inputs, attrs, num_outputs)\n\u001b[0m\u001b[1;32m     56\u001b[0m   \u001b[0;32mexcept\u001b[0m \u001b[0mcore\u001b[0m\u001b[0;34m.\u001b[0m\u001b[0m_NotOkStatusException\u001b[0m \u001b[0;32mas\u001b[0m \u001b[0me\u001b[0m\u001b[0;34m:\u001b[0m\u001b[0;34m\u001b[0m\u001b[0;34m\u001b[0m\u001b[0m\n\u001b[1;32m     57\u001b[0m     \u001b[0;32mif\u001b[0m \u001b[0mname\u001b[0m \u001b[0;32mis\u001b[0m \u001b[0;32mnot\u001b[0m \u001b[0;32mNone\u001b[0m\u001b[0;34m:\u001b[0m\u001b[0;34m\u001b[0m\u001b[0;34m\u001b[0m\u001b[0m\n",
            "\u001b[0;31mKeyboardInterrupt\u001b[0m: "
          ]
        }
      ],
      "source": [
        "history = model.fit(train_images, epochs=100, validation_data=valid_images, callbacks=[early_stopping_cb, checkpoint_cb])"
      ],
      "id": "7726552f"
    },
    {
      "cell_type": "code",
      "execution_count": null,
      "metadata": {
        "id": "e6BKkPTB0Zs9"
      },
      "outputs": [],
      "source": [
        ""
      ],
      "id": "e6BKkPTB0Zs9"
    }
  ],
  "metadata": {
    "accelerator": "GPU",
    "colab": {
      "background_execution": "on",
      "collapsed_sections": [],
      "machine_shape": "hm",
      "name": "Scraper-CNN-Classifier.ipynb",
      "provenance": []
    },
    "kernelspec": {
      "display_name": "Python 3 (ipykernel)",
      "language": "python",
      "name": "python3"
    },
    "language_info": {
      "codemirror_mode": {
        "name": "ipython",
        "version": 3
      },
      "file_extension": ".py",
      "mimetype": "text/x-python",
      "name": "python",
      "nbconvert_exporter": "python",
      "pygments_lexer": "ipython3",
      "version": "3.8.12"
    }
  },
  "nbformat": 4,
  "nbformat_minor": 5
}