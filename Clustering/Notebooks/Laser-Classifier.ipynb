{
 "cells": [
  {
   "cell_type": "code",
   "execution_count": 1,
   "id": "a17f0271",
   "metadata": {
    "colab": {
     "base_uri": "https://localhost:8080/"
    },
    "id": "a17f0271",
    "outputId": "657c230e-66dc-4da5-d848-a911f6f440f8"
   },
   "outputs": [
    {
     "data": {
      "text/plain": [
       "[PhysicalDevice(name='/physical_device:CPU:0', device_type='CPU')]"
      ]
     },
     "execution_count": 1,
     "metadata": {},
     "output_type": "execute_result"
    }
   ],
   "source": [
    "import numpy as np\n",
    "import cv2\n",
    "import glob\n",
    "import pandas as pd\n",
    "import matplotlib.pyplot as plt\n",
    "from sklearn.cluster import KMeans\n",
    "from scipy.spatial.distance import cdist\n",
    "from sklearn.metrics import silhouette_score\n",
    "from numpy import savetxt\n",
    "import shutil\n",
    "from tensorflow import keras\n",
    "import tensorflow as tf\n",
    "\n",
    "\n",
    "tf.config.get_visible_devices()\n"
   ]
  },
  {
   "cell_type": "code",
   "execution_count": 2,
   "id": "43294cb4",
   "metadata": {
    "colab": {
     "base_uri": "https://localhost:8080/",
     "height": 245
    },
    "id": "43294cb4",
    "outputId": "5a453fc1-6317-4e21-ebd3-29978c453a04"
   },
   "outputs": [],
   "source": [
    "image_train_gen = keras.preprocessing.image.ImageDataGenerator(width_shift_range=0.2,\n",
    "                                                         height_shift_range=0.2,\n",
    "                                                         rescale=1 / 255.,\n",
    "                                                         horizontal_flip=True,\n",
    "                                                         fill_mode=\"nearest\",\n",
    "                                                         validation_split=0.2\n",
    "                                                         )\n",
    "\n",
    "image_test_gen = keras.preprocessing.image.ImageDataGenerator(width_shift_range=0.2,\n",
    "                                                         height_shift_range=0.2,\n",
    "                                                         rescale=1 / 255.,\n",
    "                                                         horizontal_flip=True,\n",
    "                                                         fill_mode=\"nearest\"\n",
    "                                                         )"
   ]
  },
  {
   "cell_type": "code",
   "execution_count": null,
   "id": "fca5367a",
   "metadata": {
    "colab": {
     "base_uri": "https://localhost:8080/"
    },
    "id": "fca5367a",
    "outputId": "9cdcacc1-c261-42ef-8d95-3dd397206acc"
   },
   "outputs": [
    {
     "name": "stdout",
     "output_type": "stream",
     "text": [
      "Found 57555 images belonging to 2 classes.\n"
     ]
    }
   ],
   "source": [
    "train_images = image_train_gen.flow_from_directory(\n",
    "    directory=\"laser/train/\",\n",
    "    color_mode=\"rgb\",\n",
    "    class_mode=\"binary\",\n",
    "    subset='training',\n",
    "    seed=42\n",
    "    )"
   ]
  },
  {
   "cell_type": "code",
   "execution_count": null,
   "id": "7bb5b9ed",
   "metadata": {
    "colab": {
     "base_uri": "https://localhost:8080/"
    },
    "id": "7bb5b9ed",
    "outputId": "83c6d9a1-7518-4c14-a933-72b56c863503"
   },
   "outputs": [
    {
     "name": "stdout",
     "output_type": "stream",
     "text": [
      "Found 14388 images belonging to 2 classes.\n"
     ]
    }
   ],
   "source": [
    "valid_images = image_train_gen.flow_from_directory(\n",
    "    directory=\"laser/train/\",\n",
    "    color_mode=\"rgb\",\n",
    "    class_mode=\"binary\",\n",
    "    subset='validation',\n",
    "    seed=42\n",
    "    )"
   ]
  },
  {
   "cell_type": "code",
   "execution_count": null,
   "id": "da4593c1",
   "metadata": {
    "colab": {
     "base_uri": "https://localhost:8080/"
    },
    "id": "da4593c1",
    "outputId": "a97d26f0-7e9a-4953-ae6d-a166824b71ff"
   },
   "outputs": [
    {
     "name": "stdout",
     "output_type": "stream",
     "text": [
      "Found 17984 images belonging to 2 classes.\n"
     ]
    }
   ],
   "source": [
    "test_images = image_test_gen.flow_from_directory(\n",
    "    directory=\"laser/test/\",\n",
    "    color_mode=\"rgb\",\n",
    "    class_mode=\"binary\",\n",
    "    seed=42\n",
    "    )"
   ]
  },
  {
   "cell_type": "code",
   "execution_count": null,
   "id": "acb9cc59",
   "metadata": {
    "colab": {
     "base_uri": "https://localhost:8080/"
    },
    "id": "acb9cc59",
    "outputId": "302e901c-6fe9-4edd-db3d-e2049e91798e"
   },
   "outputs": [
    {
     "data": {
      "text/plain": [
       "(256, 256, 3)"
      ]
     },
     "execution_count": 8,
     "metadata": {},
     "output_type": "execute_result"
    }
   ],
   "source": [
    "train_images.image_shape"
   ]
  },
  {
   "cell_type": "code",
   "execution_count": 2,
   "id": "6ff42a5e",
   "metadata": {
    "id": "6ff42a5e"
   },
   "outputs": [],
   "source": [
    "model = keras.models.Sequential()\n",
    "model.add(keras.layers.Flatten(input_shape=[256,256,3]))\n",
    "model.add(keras.layers.Dense(1000, activation=\"relu\"))\n",
    "model.add(keras.layers.Dropout(rate=0.2))\n",
    "model.add(keras.layers.Dense(300, activation=\"relu\"))\n",
    "model.add(keras.layers.Dense(100, activation=\"relu\"))\n",
    "model.add(keras.layers.Dense(10, activation=\"relu\"))\n",
    "model.add(keras.layers.Dense(1, activation=\"sigmoid\"))  # \"sigmoid\" for binary classification"
   ]
  },
  {
   "cell_type": "code",
   "execution_count": null,
   "id": "b90e1472",
   "metadata": {
    "id": "b90e1472"
   },
   "outputs": [],
   "source": [
    "model.compile(loss=\"binary_crossentropy\",   ## for binary we use \"binary_crossentropy\"\n",
    "              optimizer=\"sgd\",    ###  optimizer=keras.optimizers.SGD(lr=???) for learnin grate \n",
    "              metrics=[\"accuracy\"])"
   ]
  },
  {
   "cell_type": "code",
   "execution_count": 3,
   "id": "b641e383",
   "metadata": {},
   "outputs": [
    {
     "name": "stdout",
     "output_type": "stream",
     "text": [
      "Model: \"sequential\"\n",
      "_________________________________________________________________\n",
      "Layer (type)                 Output Shape              Param #   \n",
      "=================================================================\n",
      "flatten (Flatten)            (None, 196608)            0         \n",
      "_________________________________________________________________\n",
      "dense (Dense)                (None, 1000)              196609000 \n",
      "_________________________________________________________________\n",
      "dropout (Dropout)            (None, 1000)              0         \n",
      "_________________________________________________________________\n",
      "dense_1 (Dense)              (None, 300)               300300    \n",
      "_________________________________________________________________\n",
      "dense_2 (Dense)              (None, 100)               30100     \n",
      "_________________________________________________________________\n",
      "dense_3 (Dense)              (None, 10)                1010      \n",
      "_________________________________________________________________\n",
      "dense_4 (Dense)              (None, 1)                 11        \n",
      "=================================================================\n",
      "Total params: 196,940,421\n",
      "Trainable params: 196,940,421\n",
      "Non-trainable params: 0\n",
      "_________________________________________________________________\n"
     ]
    }
   ],
   "source": [
    "model.summary()"
   ]
  },
  {
   "cell_type": "code",
   "execution_count": null,
   "id": "bcaa0fe7",
   "metadata": {
    "id": "bcaa0fe7"
   },
   "outputs": [],
   "source": [
    "early_stopping_cb = keras.callbacks.EarlyStopping(patience=10, restore_best_weights=True)\n",
    "checkpoint_cb = keras.callbacks.ModelCheckpoint(\"models/model-{epoch:02d}-{val_accuracy:.2f}.hdf5\",  monitor='val_accuracy', save_best_only=True)"
   ]
  },
  {
   "cell_type": "code",
   "execution_count": null,
   "id": "7726552f",
   "metadata": {
    "colab": {
     "base_uri": "https://localhost:8080/"
    },
    "id": "7726552f",
    "outputId": "da483a25-0254-470b-a7df-6afc3df30308"
   },
   "outputs": [],
   "source": [
    "history = model.fit(train_images, epochs=100, validation_data=valid_images, callbacks=[early_stopping_cb, checkpoint_cb])"
   ]
  },
  {
   "cell_type": "code",
   "execution_count": null,
   "id": "e6BKkPTB0Zs9",
   "metadata": {
    "id": "e6BKkPTB0Zs9"
   },
   "outputs": [],
   "source": []
  }
 ],
 "metadata": {
  "colab": {
   "collapsed_sections": [],
   "name": "Laser Classifier.ipynb",
   "provenance": []
  },
  "kernelspec": {
   "display_name": "Python 3 (ipykernel)",
   "language": "python",
   "name": "python3"
  },
  "language_info": {
   "codemirror_mode": {
    "name": "ipython",
    "version": 3
   },
   "file_extension": ".py",
   "mimetype": "text/x-python",
   "name": "python",
   "nbconvert_exporter": "python",
   "pygments_lexer": "ipython3",
   "version": "3.8.12"
  }
 },
 "nbformat": 4,
 "nbformat_minor": 5
}
