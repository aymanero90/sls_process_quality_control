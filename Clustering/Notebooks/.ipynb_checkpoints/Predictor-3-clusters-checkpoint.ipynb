{
 "cells": [
  {
   "cell_type": "code",
   "execution_count": 1,
   "id": "908bbb0e",
   "metadata": {},
   "outputs": [],
   "source": [
    "import numpy as np\n",
    "import cv2\n",
    "import glob\n",
    "import pandas as pd\n",
    "import matplotlib.pyplot as plt\n",
    "from sklearn.cluster import KMeans\n",
    "from scipy.spatial.distance import cdist\n",
    "from sklearn.metrics import silhouette_score\n",
    "from numpy import savetxt\n",
    "import shutil\n",
    "from tensorflow import keras\n",
    "import tensorflow as tf\n",
    "from tqdm import tqdm\n",
    "from keras.metrics import mean_squared_error as mse\n",
    "\n"
   ]
  },
  {
   "cell_type": "code",
   "execution_count": 2,
   "id": "563419ee",
   "metadata": {},
   "outputs": [],
   "source": [
    "BASIC_PATH = \"D:/5FH/ML/\"\n",
    "THRESHOLD = 2600\n",
    "GREEN_THRESHOLD = 25\n",
    "IMAGE_WIDTH = 60\n",
    "IMAGE_HEIGHT = 70"
   ]
  },
  {
   "cell_type": "markdown",
   "id": "24091e86",
   "metadata": {},
   "source": [
    "## Load the classifiers"
   ]
  },
  {
   "cell_type": "code",
   "execution_count": 3,
   "id": "3359541b",
   "metadata": {},
   "outputs": [],
   "source": [
    "scraperClassifier = keras.models.load_model(BASIC_PATH + 'models/ScraperClassifier.hdf5')\n",
    "laserClassifier = keras.models.load_model(BASIC_PATH + 'models/LaserClassifier.hdf5')\n",
    "MainClassifier = keras.models.load_model(BASIC_PATH + 'models/MainClassifier.hdf5')"
   ]
  },
  {
   "cell_type": "code",
   "execution_count": 4,
   "id": "6db87aa9",
   "metadata": {},
   "outputs": [
    {
     "name": "stdout",
     "output_type": "stream",
     "text": [
      "Model: \"sequential_8\"\n",
      "_________________________________________________________________\n",
      "Layer (type)                 Output Shape              Param #   \n",
      "=================================================================\n",
      "flatten_8 (Flatten)          (None, 12600)             0         \n",
      "_________________________________________________________________\n",
      "dense_40 (Dense)             (None, 700)               8820700   \n",
      "_________________________________________________________________\n",
      "dense_41 (Dense)             (None, 100)               70100     \n",
      "_________________________________________________________________\n",
      "dense_42 (Dense)             (None, 10)                1010      \n",
      "_________________________________________________________________\n",
      "dense_43 (Dense)             (None, 1)                 11        \n",
      "=================================================================\n",
      "Total params: 8,891,821\n",
      "Trainable params: 8,891,821\n",
      "Non-trainable params: 0\n",
      "_________________________________________________________________\n"
     ]
    }
   ],
   "source": [
    "MainClassifier.summary()"
   ]
  },
  {
   "cell_type": "markdown",
   "id": "004d1d0d",
   "metadata": {},
   "source": [
    "\n",
    "## Define help and clustering methods"
   ]
  },
  {
   "cell_type": "code",
   "execution_count": 8,
   "id": "107ccc8b",
   "metadata": {},
   "outputs": [],
   "source": [
    "def classify_image(image , classifier):\n",
    "    image = cv2.resize(image , (256,256))\n",
    "    img = image\n",
    "    img_list = []\n",
    "    img_list.append(img)\n",
    "    img_array = np.asarray(img_list)\n",
    "    predection = classifier.predict(img_array)\n",
    "    return predection\n",
    "\n",
    "\n",
    "def image_in_scraper_phase(img):\n",
    "    ret = False\n",
    "    if classify_image(img , scraperClassifier) == 1:\n",
    "        ret = True\n",
    "    return ret\n",
    "\n",
    "\n",
    "def image_in_laser_phase(img):\n",
    "    ret = False\n",
    "    if classify_image(img , laserClassifier) == 1:\n",
    "        ret = True\n",
    "    return ret\n",
    "\n",
    "\n",
    "def cluster_image(img, n_clusters):\n",
    "    X = img.reshape(-1,3)\n",
    "    km = KMeans(n_clusters=n_clusters).fit(X)\n",
    "    means = np.mean(km.cluster_centers_, axis=1)\n",
    "    sorted_means = np.sort(means)\n",
    "    sorted_clusters = []\n",
    "    for i in range(0,n_clusters):\n",
    "        for j in range(0,n_clusters):\n",
    "            if sorted_means[i] == means[j]:\n",
    "                sorted_clusters.append(km.cluster_centers_[j])\n",
    "                break\n",
    "    return np.int64(sorted_clusters)\n",
    "\n",
    "\n",
    "def image_has_defect_part(img):\n",
    "    anomaly = False\n",
    "    img = img[30:300,:,:]                  ## image cleaning from the dark side at top and the logo at bottom\n",
    "    img = cv2.resize(img, (IMAGE_WIDTH, IMAGE_HEIGHT))\n",
    "    \n",
    "    centers= cluster_image(img, 3)         ## Cluster image and get centroids\n",
    "    \n",
    "    mean_squared_error =  mse(centers[0], centers[1])\n",
    "    if mean_squared_error > THRESHOLD :\n",
    "        anomaly = True\n",
    "    else:\n",
    "        new_centers = cluster_image(img, 20)\n",
    "        g_channel = new_centers[0][1]\n",
    "        if g_channel < GREEN_THRESHOLD:    ## check the green channel of the first cluster\n",
    "            anomaly = True\n",
    "        else:\n",
    "            anomaly = False\n",
    "    return anomaly\n",
    "\n",
    "\n",
    "def get_clustered_image(img, n_clusters, img_width, img_heigth):\n",
    "    X = img.reshape(-1,3)\n",
    "    km = KMeans(n_clusters= n_clusters).fit(X)\n",
    "    n_pixels_per_cluster = int(img_heigth * img_width / n_clusters)\n",
    "    means = np.mean(km.cluster_centers_, axis=1)\n",
    "    sorted_means = np.sort(means)\n",
    "    idxs = []\n",
    "    for i in range(n_clusters):\n",
    "        for j in range(n_clusters):\n",
    "            if sorted_means[i] == means[j]:\n",
    "                idxs.append(j)\n",
    "                break\n",
    "    segmented_arranged_img = []\n",
    "    for i in range (n_clusters):\n",
    "        cluster = X[km.labels_ == idxs[i]]\n",
    "        if len(cluster) < n_pixels_per_cluster :\n",
    "            ix = idxs[i]\n",
    "            for i in range(len(cluster), n_pixels_per_cluster):\n",
    "                cluster = np.append(cluster, km.cluster_centers_[ix:ix + 1], axis=0)\n",
    "        else:\n",
    "            cluster = cluster[:n_pixels_per_cluster]\n",
    "        segmented_arranged_img.extend(np.uint8(cluster))\n",
    "    segmented_arranged_img =  np.asarray(segmented_arranged_img)\n",
    "    segmented_arranged_img = segmented_arranged_img.reshape(img.shape)\n",
    "    return segmented_arranged_img    "
   ]
  },
  {
   "cell_type": "markdown",
   "id": "053641d3",
   "metadata": {},
   "source": [
    "## <br>\n",
    "## Way 1: Read and predict images with threshold"
   ]
  },
  {
   "cell_type": "code",
   "execution_count": 11,
   "id": "6c816f24",
   "metadata": {},
   "outputs": [
    {
     "name": "stderr",
     "output_type": "stream",
     "text": [
      "100%|████████████████████████████████████████████████████████████████████████████████| 500/500 [01:51<00:00,  4.48it/s]\n"
     ]
    }
   ],
   "source": [
    "TARGET_PATH = \"images/1new/2/\"\n",
    "\n",
    "path = glob.glob(BASIC_PATH +\"images/1new/2/source/*.jpg\")\n",
    "\n",
    "for file in tqdm(path):\n",
    "    img = plt.imread(file)\n",
    "    \n",
    "    if image_in_scraper_phase(img):\n",
    "        shutil.move(file, BASIC_PATH + TARGET_PATH + \"scraper/\")\n",
    "        continue\n",
    "    \n",
    "    if image_in_laser_phase(img):\n",
    "        shutil.move(file, BASIC_PATH + TARGET_PATH + \"laser/\")\n",
    "        continue\n",
    "    \n",
    "    if image_has_defect_part(img):\n",
    "        shutil.move(file, BASIC_PATH + TARGET_PATH + \"fail/\")\n",
    "    else:\n",
    "        shutil.move(file, BASIC_PATH + TARGET_PATH + \"normal/\")"
   ]
  },
  {
   "cell_type": "markdown",
   "id": "5f6ed398",
   "metadata": {},
   "source": [
    "## <br>\n",
    "## Way 2: Read and predict images with Classifier"
   ]
  },
  {
   "cell_type": "code",
   "execution_count": 9,
   "id": "bbd62183",
   "metadata": {},
   "outputs": [
    {
     "name": "stderr",
     "output_type": "stream",
     "text": [
      "100%|████████████████████████████████████████████████████████████████████████████████████| 2/2 [00:00<00:00,  8.27it/s]"
     ]
    },
    {
     "name": "stdout",
     "output_type": "stream",
     "text": [
      "fail\n",
      "fail\n"
     ]
    },
    {
     "name": "stderr",
     "output_type": "stream",
     "text": [
      "\n"
     ]
    }
   ],
   "source": [
    "TARGET_PATH = \"images/test-normal-images/\"\n",
    "n_clusters = 3\n",
    "\n",
    "path = glob.glob(BASIC_PATH +\"images/experiment-classifier/sample/*.jpg\")\n",
    "\n",
    "if IMAGE_HEIGHT * IMAGE_WIDTH % n_clusters != 0:\n",
    "     raise Exception(\"Wrong number of clusters !!!\")\n",
    "for i, file in enumerate(tqdm(path)):\n",
    "    img = plt.imread(file)    \n",
    "    if image_in_scraper_phase(img):\n",
    "        print(\"scraper\")        \n",
    "        continue\n",
    " \n",
    "    if image_in_laser_phase(img):\n",
    "        print(\"laser\")\n",
    "        continue\n",
    "\n",
    "    \n",
    "    img = cv2.resize(img, (240, 320))\n",
    "    img = img[30:280,:,:] \n",
    "    img = cv2.resize(img, (IMAGE_WIDTH, IMAGE_HEIGHT))\n",
    "    clustered_image = get_clustered_image (img, n_clusters, IMAGE_WIDTH, IMAGE_HEIGHT)\n",
    "    clustered_image = np.asarray(clustered_image)\n",
    "    plt.imsave(file + str(i) + \".jpg\",clustered_image )\n",
    "    image_list = [clustered_image]\n",
    "    \n",
    "    if MainClassifier.predict(np.asarray(image_list)) == 1:\n",
    "        print(\"fail: \" +  file)\n",
    "    else:\n",
    "        print(\"normal: \" + file)"
   ]
  },
  {
   "cell_type": "code",
   "execution_count": null,
   "id": "e3b2a66c",
   "metadata": {},
   "outputs": [],
   "source": []
  }
 ],
 "metadata": {
  "kernelspec": {
   "display_name": "Python 3 (ipykernel)",
   "language": "python",
   "name": "python3"
  },
  "language_info": {
   "codemirror_mode": {
    "name": "ipython",
    "version": 3
   },
   "file_extension": ".py",
   "mimetype": "text/x-python",
   "name": "python",
   "nbconvert_exporter": "python",
   "pygments_lexer": "ipython3",
   "version": "3.8.12"
  }
 },
 "nbformat": 4,
 "nbformat_minor": 5
}
