{
 "cells": [
  {
   "cell_type": "code",
   "execution_count": 15,
   "id": "a17f0271",
   "metadata": {
    "colab": {
     "base_uri": "https://localhost:8080/"
    },
    "id": "a17f0271",
    "outputId": "610c8388-920d-46f7-fd01-8afa596c4a0c"
   },
   "outputs": [
    {
     "data": {
      "text/plain": [
       "[PhysicalDevice(name='/physical_device:CPU:0', device_type='CPU')]"
      ]
     },
     "execution_count": 15,
     "metadata": {},
     "output_type": "execute_result"
    }
   ],
   "source": [
    "import numpy as np\n",
    "import cv2\n",
    "import glob\n",
    "import matplotlib.pyplot as plt\n",
    "from sklearn.cluster import KMeans\n",
    "from tensorflow import keras\n",
    "import tensorflow as tf\n",
    "\n",
    "BASIC_PATH = \"D:/5FH/ML/\"\n",
    "\n",
    "tf.config.get_visible_devices()"
   ]
  },
  {
   "cell_type": "markdown",
   "id": "5568fbe4",
   "metadata": {},
   "source": [
    "## Define ImageDataGenerators with image preprocessing <br> and  read train, validation and test images"
   ]
  },
  {
   "cell_type": "code",
   "execution_count": 2,
   "id": "43294cb4",
   "metadata": {
    "id": "43294cb4"
   },
   "outputs": [],
   "source": [
    "def get_images(path):\n",
    "    image_train_gen = keras.preprocessing.image.ImageDataGenerator(rescale=1 / 255.,\n",
    "                                                             horizontal_flip=True,\n",
    "                                                             fill_mode=\"nearest\",\n",
    "                                                             validation_split=0.25\n",
    "                                                             )\n",
    "    \n",
    "    image_test_gen = keras.preprocessing.image.ImageDataGenerator(rescale=1 / 255.,\n",
    "                                                             horizontal_flip=True,\n",
    "                                                             fill_mode=\"nearest\"\n",
    "                                                             )\n",
    "   \n",
    "    \n",
    "    train_images = image_train_gen.flow_from_directory(\n",
    "       directory= path + \"/train/\",\n",
    "       color_mode=\"rgb\",\n",
    "       class_mode=\"binary\",\n",
    "       subset='training',\n",
    "       target_size=(70, 60),\n",
    "       seed=42\n",
    "       )\n",
    "    \n",
    "    valid_images = image_train_gen.flow_from_directory(\n",
    "       directory= path + \"/train/\",\n",
    "       color_mode=\"rgb\",\n",
    "       class_mode=\"binary\",\n",
    "       subset='validation',\n",
    "       target_size=(70, 60),\n",
    "       seed=42\n",
    "       )\n",
    "    \n",
    "    test_images = image_test_gen.flow_from_directory(\n",
    "       directory= path + \"/test/\",\n",
    "       color_mode=\"rgb\",\n",
    "       class_mode=\"binary\",\n",
    "       target_size=(70, 60),\n",
    "       seed=42\n",
    "       )\n",
    "    \n",
    "    return train_images, valid_images, test_images"
   ]
  },
  {
   "cell_type": "code",
   "execution_count": 5,
   "id": "l41GhIW7Gftx",
   "metadata": {
    "colab": {
     "base_uri": "https://localhost:8080/"
    },
    "id": "l41GhIW7Gftx",
    "outputId": "f20a8d2f-2e58-469c-bcd4-2f831a3876dc"
   },
   "outputs": [
    {
     "name": "stdout",
     "output_type": "stream",
     "text": [
      "Found 63696 images belonging to 2 classes.\n",
      "Found 21232 images belonging to 2 classes.\n",
      "Found 42465 images belonging to 2 classes.\n"
     ]
    }
   ],
   "source": [
    "train_images, valid_images, test_images = get_images(BASIC_PATH +\"images/experiment-classifier/clustered-3-improvement/\")"
   ]
  },
  {
   "cell_type": "markdown",
   "id": "bac51289",
   "metadata": {},
   "source": [
    "## Create the model with 3 hidden layers and one binary output layer"
   ]
  },
  {
   "cell_type": "code",
   "execution_count": null,
   "id": "6ff42a5e",
   "metadata": {
    "id": "6ff42a5e"
   },
   "outputs": [],
   "source": [
    "model = keras.models.Sequential()\n",
    "model.add(keras.layers.Flatten(input_shape=[70, 60,3]))\n",
    "model.add(keras.layers.Dense(700, activation=\"relu\"))\n",
    "model.add(keras.layers.Dense(100, activation=\"relu\"))\n",
    "model.add(keras.layers.Dense(10, activation=\"relu\"))\n",
    "model.add(keras.layers.Dense(1, activation=\"sigmoid\"))  # \"sigmoid\" activation function for binary classification"
   ]
  },
  {
   "cell_type": "code",
   "execution_count": 8,
   "id": "b90e1472",
   "metadata": {
    "id": "b90e1472"
   },
   "outputs": [],
   "source": [
    "model.compile(loss=\"binary_crossentropy\",   ## for binary classification\n",
    "              optimizer=\"sgd\",    ###  or optimizer=keras.optimizers.SGD(lr=) for defining learnin grate \n",
    "              metrics=[\"accuracy\"])"
   ]
  },
  {
   "cell_type": "code",
   "execution_count": 9,
   "id": "bcaa0fe7",
   "metadata": {
    "id": "bcaa0fe7"
   },
   "outputs": [],
   "source": [
    "early_stopping_cb = keras.callbacks.EarlyStopping(patience=10, restore_best_weights=True)\n",
    "checkpoint_cb = keras.callbacks.ModelCheckpoint(\"models/Main-Classifier-3-clusters-improved-{epoch:02d}-{val_accuracy:.2f}.hdf5\",  monitor='val_accuracy', save_best_only=True)"
   ]
  },
  {
   "cell_type": "markdown",
   "id": "90ab2cca",
   "metadata": {},
   "source": [
    "## Train the model"
   ]
  },
  {
   "cell_type": "code",
   "execution_count": 10,
   "id": "7726552f",
   "metadata": {
    "colab": {
     "base_uri": "https://localhost:8080/"
    },
    "id": "7726552f",
    "outputId": "4907eea2-9b29-40f0-9ee8-be9cc914d1ec"
   },
   "outputs": [
    {
     "name": "stdout",
     "output_type": "stream",
     "text": [
      "Epoch 1/100\n",
      "1991/1991 [==============================] - 109s 54ms/step - loss: 0.0458 - accuracy: 0.9877 - val_loss: 0.0646 - val_accuracy: 0.9795\n",
      "Epoch 2/100\n",
      "1991/1991 [==============================] - 102s 51ms/step - loss: 0.0401 - accuracy: 0.9887 - val_loss: 0.0487 - val_accuracy: 0.9834\n",
      "Epoch 3/100\n",
      "1991/1991 [==============================] - 77s 39ms/step - loss: 0.0313 - accuracy: 0.9910 - val_loss: 0.0340 - val_accuracy: 0.9899\n",
      "Epoch 4/100\n",
      "1991/1991 [==============================] - 98s 49ms/step - loss: 0.0326 - accuracy: 0.9905 - val_loss: 0.0320 - val_accuracy: 0.9912\n",
      "Epoch 5/100\n",
      "1991/1991 [==============================] - 111s 56ms/step - loss: 0.0271 - accuracy: 0.9924 - val_loss: 0.0381 - val_accuracy: 0.9878\n",
      "Epoch 6/100\n",
      "1991/1991 [==============================] - 84s 42ms/step - loss: 0.0275 - accuracy: 0.9920 - val_loss: 0.0255 - val_accuracy: 0.9925\n",
      "Epoch 7/100\n",
      "1991/1991 [==============================] - 77s 39ms/step - loss: 0.0270 - accuracy: 0.9924 - val_loss: 0.0249 - val_accuracy: 0.9924\n",
      "Epoch 8/100\n",
      "1991/1991 [==============================] - 93s 47ms/step - loss: 0.0225 - accuracy: 0.9939 - val_loss: 0.0543 - val_accuracy: 0.9795\n",
      "Epoch 9/100\n",
      "1991/1991 [==============================] - 115s 58ms/step - loss: 0.0217 - accuracy: 0.9941 - val_loss: 0.0617 - val_accuracy: 0.9774\n",
      "Epoch 10/100\n",
      "1991/1991 [==============================] - 77s 39ms/step - loss: 0.0203 - accuracy: 0.9943 - val_loss: 0.0329 - val_accuracy: 0.9883\n",
      "Epoch 11/100\n",
      "1991/1991 [==============================] - 77s 39ms/step - loss: 0.0229 - accuracy: 0.9943 - val_loss: 0.0230 - val_accuracy: 0.9931\n",
      "Epoch 12/100\n",
      "1991/1991 [==============================] - 77s 39ms/step - loss: 0.0207 - accuracy: 0.9945 - val_loss: 0.0195 - val_accuracy: 0.9939\n",
      "Epoch 13/100\n",
      "1991/1991 [==============================] - 81s 41ms/step - loss: 0.0179 - accuracy: 0.9952 - val_loss: 0.0184 - val_accuracy: 0.9945\n",
      "Epoch 14/100\n",
      "1991/1991 [==============================] - 100s 50ms/step - loss: 0.0415 - accuracy: 0.9898 - val_loss: 0.0288 - val_accuracy: 0.9913\n",
      "Epoch 15/100\n",
      "1991/1991 [==============================] - 91s 46ms/step - loss: 0.0299 - accuracy: 0.9916 - val_loss: 0.0250 - val_accuracy: 0.9924\n",
      "Epoch 16/100\n",
      "1991/1991 [==============================] - 81s 41ms/step - loss: 0.0269 - accuracy: 0.9924 - val_loss: 0.0272 - val_accuracy: 0.9912\n",
      "Epoch 17/100\n",
      "1991/1991 [==============================] - 79s 40ms/step - loss: 0.0217 - accuracy: 0.9942 - val_loss: 0.0191 - val_accuracy: 0.9944\n",
      "Epoch 18/100\n",
      "1991/1991 [==============================] - 80s 40ms/step - loss: 0.0187 - accuracy: 0.9951 - val_loss: 0.0165 - val_accuracy: 0.9970\n",
      "Epoch 19/100\n",
      "1991/1991 [==============================] - 78s 39ms/step - loss: 0.0237 - accuracy: 0.9939 - val_loss: 0.0911 - val_accuracy: 0.9679\n",
      "Epoch 20/100\n",
      "1991/1991 [==============================] - 80s 40ms/step - loss: 0.0195 - accuracy: 0.9947 - val_loss: 0.0506 - val_accuracy: 0.9809\n",
      "Epoch 21/100\n",
      "1991/1991 [==============================] - 78s 39ms/step - loss: 0.0205 - accuracy: 0.9943 - val_loss: 0.0241 - val_accuracy: 0.9919\n",
      "Epoch 22/100\n",
      "1991/1991 [==============================] - 90s 45ms/step - loss: 0.0257 - accuracy: 0.9932 - val_loss: 0.0416 - val_accuracy: 0.9831\n",
      "Epoch 23/100\n",
      "1991/1991 [==============================] - 77s 39ms/step - loss: 0.0179 - accuracy: 0.9954 - val_loss: 0.0201 - val_accuracy: 0.9933\n",
      "Epoch 24/100\n",
      "1991/1991 [==============================] - 102s 51ms/step - loss: 0.0167 - accuracy: 0.9960 - val_loss: 0.0259 - val_accuracy: 0.9905\n",
      "Epoch 25/100\n",
      "1991/1991 [==============================] - 77s 39ms/step - loss: 0.0154 - accuracy: 0.9961 - val_loss: 0.0358 - val_accuracy: 0.9862\n",
      "Epoch 26/100\n",
      "1991/1991 [==============================] - 78s 39ms/step - loss: 0.0153 - accuracy: 0.9962 - val_loss: 0.0122 - val_accuracy: 0.9969\n",
      "Epoch 27/100\n",
      "1991/1991 [==============================] - 79s 40ms/step - loss: 0.0211 - accuracy: 0.9944 - val_loss: 0.0154 - val_accuracy: 0.9960\n",
      "Epoch 28/100\n",
      "1991/1991 [==============================] - 79s 40ms/step - loss: 0.0161 - accuracy: 0.9961 - val_loss: 0.0151 - val_accuracy: 0.9954\n",
      "Epoch 29/100\n",
      "1991/1991 [==============================] - 110s 55ms/step - loss: 0.0154 - accuracy: 0.9962 - val_loss: 0.0122 - val_accuracy: 0.9977\n",
      "Epoch 30/100\n",
      "1991/1991 [==============================] - 141s 71ms/step - loss: 0.0165 - accuracy: 0.9961 - val_loss: 0.0102 - val_accuracy: 0.9975\n",
      "Epoch 31/100\n",
      "1991/1991 [==============================] - 141s 71ms/step - loss: 0.0184 - accuracy: 0.9959 - val_loss: 0.0401 - val_accuracy: 0.9965\n",
      "Epoch 32/100\n",
      "1991/1991 [==============================] - 137s 69ms/step - loss: 0.0190 - accuracy: 0.9952 - val_loss: 0.0139 - val_accuracy: 0.9959\n",
      "Epoch 33/100\n",
      "1991/1991 [==============================] - 103s 52ms/step - loss: 0.0228 - accuracy: 0.9944 - val_loss: 0.0196 - val_accuracy: 0.9937\n",
      "Epoch 34/100\n",
      "1991/1991 [==============================] - 78s 39ms/step - loss: 0.0193 - accuracy: 0.9952 - val_loss: 0.0283 - val_accuracy: 0.9896\n",
      "Epoch 35/100\n",
      "1991/1991 [==============================] - 78s 39ms/step - loss: 0.0227 - accuracy: 0.9941 - val_loss: 0.0209 - val_accuracy: 0.9921\n",
      "Epoch 36/100\n",
      "1991/1991 [==============================] - 78s 39ms/step - loss: 0.0187 - accuracy: 0.9950 - val_loss: 0.0174 - val_accuracy: 0.9947\n",
      "Epoch 37/100\n",
      "1991/1991 [==============================] - 76s 38ms/step - loss: 0.0230 - accuracy: 0.9941 - val_loss: 0.0259 - val_accuracy: 0.9937\n",
      "Epoch 38/100\n",
      "1991/1991 [==============================] - 76s 38ms/step - loss: 0.0199 - accuracy: 0.9947 - val_loss: 0.0130 - val_accuracy: 0.9966\n",
      "Epoch 39/100\n",
      "1991/1991 [==============================] - 72s 36ms/step - loss: 0.0150 - accuracy: 0.9962 - val_loss: 0.0108 - val_accuracy: 0.9975\n",
      "Epoch 40/100\n",
      "1991/1991 [==============================] - 75s 38ms/step - loss: 0.0187 - accuracy: 0.9955 - val_loss: 0.0139 - val_accuracy: 0.9961\n"
     ]
    }
   ],
   "source": [
    "history = model.fit(train_images, epochs=100, validation_data=valid_images, callbacks=[early_stopping_cb, checkpoint_cb])"
   ]
  },
  {
   "cell_type": "markdown",
   "id": "8116f39d",
   "metadata": {},
   "source": [
    "## evaluate the test dataset with the best trained model"
   ]
  },
  {
   "cell_type": "code",
   "execution_count": 11,
   "id": "932396fc",
   "metadata": {
    "colab": {
     "base_uri": "https://localhost:8080/"
    },
    "id": "932396fc",
    "outputId": "2b4eb94f-5ed4-4bd2-f7ee-12464f7f9315",
    "scrolled": true
   },
   "outputs": [
    {
     "name": "stdout",
     "output_type": "stream",
     "text": [
      "1328/1328 [==============================] - 36s 27ms/step - loss: 0.0118 - accuracy: 0.9974\n",
      "Model: \"sequential_8\"\n",
      "_________________________________________________________________\n",
      "Layer (type)                 Output Shape              Param #   \n",
      "=================================================================\n",
      "flatten_8 (Flatten)          (None, 12600)             0         \n",
      "_________________________________________________________________\n",
      "dense_40 (Dense)             (None, 700)               8820700   \n",
      "_________________________________________________________________\n",
      "dense_41 (Dense)             (None, 100)               70100     \n",
      "_________________________________________________________________\n",
      "dense_42 (Dense)             (None, 10)                1010      \n",
      "_________________________________________________________________\n",
      "dense_43 (Dense)             (None, 1)                 11        \n",
      "=================================================================\n",
      "Total params: 8,891,821\n",
      "Trainable params: 8,891,821\n",
      "Non-trainable params: 0\n",
      "_________________________________________________________________\n"
     ]
    }
   ],
   "source": [
    "model = keras.models.load_model(\"./models/Main-Classifier-3-clusters-improved-29-1.00.hdf5\")\n",
    "\n",
    "model.evaluate(test_images)\n",
    "model.summary()"
   ]
  },
  {
   "cell_type": "code",
   "execution_count": null,
   "id": "9LvzKt5EZ_Ds",
   "metadata": {
    "id": "9LvzKt5EZ_Ds"
   },
   "outputs": [],
   "source": []
  }
 ],
 "metadata": {
  "accelerator": "GPU",
  "colab": {
   "collapsed_sections": [],
   "machine_shape": "hm",
   "name": "Main Classifier.ipynb",
   "provenance": []
  },
  "kernelspec": {
   "display_name": "Python 3 (ipykernel)",
   "language": "python",
   "name": "python3"
  },
  "language_info": {
   "codemirror_mode": {
    "name": "ipython",
    "version": 3
   },
   "file_extension": ".py",
   "mimetype": "text/x-python",
   "name": "python",
   "nbconvert_exporter": "python",
   "pygments_lexer": "ipython3",
   "version": "3.8.12"
  }
 },
 "nbformat": 4,
 "nbformat_minor": 5
}
