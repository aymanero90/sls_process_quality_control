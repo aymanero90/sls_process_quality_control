{
 "cells": [
  {
   "cell_type": "code",
   "execution_count": 1,
   "id": "908bbb0e",
   "metadata": {},
   "outputs": [],
   "source": [
    "import numpy as np\n",
    "import cv2\n",
    "import glob\n",
    "import matplotlib.pyplot as plt\n",
    "from sklearn.cluster import KMeans\n",
    "from numpy import savetxt\n",
    "import shutil\n",
    "from tensorflow import keras\n",
    "import tensorflow as tf\n",
    "from tqdm import tqdm"
   ]
  },
  {
   "cell_type": "code",
   "execution_count": 2,
   "id": "563419ee",
   "metadata": {},
   "outputs": [],
   "source": [
    "BASIC_PATH = \"D:/5FH/ML/\"\n",
    "IMAGE_WIDTH = 60\n",
    "IMAGE_HEIGHT = 70"
   ]
  },
  {
   "cell_type": "code",
   "execution_count": 6,
   "id": "3359541b",
   "metadata": {},
   "outputs": [],
   "source": [
    "def cluster_and_arrange_image(img, n_clusters):\n",
    "    if IMAGE_HEIGHT * IMAGE_WIDTH % n_clusters != 0:\n",
    "        raise Exception(\"wrong number of clusters !!!\")\n",
    "    X = img.reshape(-1,3)\n",
    "    km = KMeans(n_clusters=n_clusters).fit(X)\n",
    "    means = np.mean(km.cluster_centers_, axis=1)\n",
    "    sorted_means = np.sort(means)\n",
    "    n_pixels_per_cluster = int(IMAGE_HEIGHT * IMAGE_WIDTH / n_clusters)\n",
    "    idxs = []\n",
    "    for i in range(n_clusters):\n",
    "        for j in range(n_clusters):\n",
    "            if sorted_means[i] == means[j]:\n",
    "                idxs.append(j)\n",
    "                break\n",
    "    segmented_arranged_img = []\n",
    "    for i in range (n_clusters):\n",
    "        cluster = X[km.labels_ == idxs[i]]\n",
    "        if len(cluster) < n_pixels_per_cluster :\n",
    "            ix = idxs[i]\n",
    "            for i in range(len(cluster), n_pixels_per_cluster):\n",
    "                cluster = np.append(cluster, km.cluster_centers_[ix:ix + 1], axis=0)\n",
    "        else:\n",
    "            cluster = cluster[:n_pixels_per_cluster]\n",
    "        segmented_arranged_img.extend(np.uint8(cluster))\n",
    "    segmented_arranged_img =  np.asarray(segmented_arranged_img)\n",
    "    segmented_arranged_img = segmented_arranged_img.reshape(img.shape)\n",
    "    return segmented_arranged_img , km.cluster_centers_"
   ]
  },
  {
   "cell_type": "code",
   "execution_count": 9,
   "id": "107ccc8b",
   "metadata": {},
   "outputs": [],
   "source": [
    "def read_and_cluster_images(src, dest, width, height):\n",
    "    path = glob.glob(src)\n",
    "    for i, file in enumerate(tqdm(path)):\n",
    "        img = plt.imread(file)\n",
    "        img = img[30:300,:,:]\n",
    "        img = cv2.resize(img, (width,height))\n",
    "        clustered_image, centers = cluster_and_arrange_image(img, 3)\n",
    "        index = file.rfind(\"\\\\\")\n",
    "        if index == -1:\n",
    "            index = file.rfind(\"/\")\n",
    "        file_name = file[index + 1:]\n",
    "        plt.imsave(dest + \"_clustered_\"+ file_name , clustered_image)\n",
    "#         np.save(dest + \"clusters/\" + file_name, centers)"
   ]
  },
  {
   "cell_type": "code",
   "execution_count": 10,
   "id": "6c816f24",
   "metadata": {},
   "outputs": [
    {
     "name": "stderr",
     "output_type": "stream",
     "text": [
      "100%|████████████████████████████████████████████████████████████████████████████████████| 1/1 [00:00<00:00,  3.92it/s]\n"
     ]
    }
   ],
   "source": [
    "\n",
    "read_and_cluster_images(BASIC_PATH + \"images/1new/MyRecord2022-03-23T131928141/0036.jpg\"   ,BASIC_PATH + \"images/1new/MyRecord2022-03-23T131928141/\", IMAGE_WIDTH, IMAGE_HEIGHT)\n"
   ]
  },
  {
   "cell_type": "code",
   "execution_count": 29,
   "id": "6f4b6578",
   "metadata": {},
   "outputs": [
    {
     "name": "stdout",
     "output_type": "stream",
     "text": [
      "1238\n",
      "4953\n",
      "1391\n",
      "5562\n"
     ]
    }
   ],
   "source": [
    "print(len(glob.glob(BASIC_PATH + \"images/experiment-classifier/clean-fail/test/*.jpg\"   )))\n",
    "print(len(glob.glob(BASIC_PATH + \"images/experiment-classifier/clean-fail/train/*.jpg\"  )))\n",
    "print(len(glob.glob(BASIC_PATH + \"images/experiment-classifier/clean-normal/test/*.jpg\" )))\n",
    "print(len(glob.glob(BASIC_PATH + \"images/experiment-classifier/clean-normal/train/*.jpg\")))"
   ]
  },
  {
   "cell_type": "code",
   "execution_count": null,
   "id": "7e49f9b1",
   "metadata": {},
   "outputs": [],
   "source": []
  }
 ],
 "metadata": {
  "kernelspec": {
   "display_name": "Python 3 (ipykernel)",
   "language": "python",
   "name": "python3"
  },
  "language_info": {
   "codemirror_mode": {
    "name": "ipython",
    "version": 3
   },
   "file_extension": ".py",
   "mimetype": "text/x-python",
   "name": "python",
   "nbconvert_exporter": "python",
   "pygments_lexer": "ipython3",
   "version": "3.8.12"
  }
 },
 "nbformat": 4,
 "nbformat_minor": 5
}
