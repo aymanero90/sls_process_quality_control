{
 "cells": [
  {
   "cell_type": "code",
   "execution_count": null,
   "id": "a17f0271",
   "metadata": {
    "colab": {
     "base_uri": "https://localhost:8080/"
    },
    "id": "a17f0271",
    "outputId": "0d6e92df-08b7-4285-cbed-384812799939"
   },
   "outputs": [
    {
     "data": {
      "text/plain": [
       "[PhysicalDevice(name='/physical_device:CPU:0', device_type='CPU'),\n",
       " PhysicalDevice(name='/physical_device:GPU:0', device_type='GPU')]"
      ]
     },
     "execution_count": 1,
     "metadata": {},
     "output_type": "execute_result"
    }
   ],
   "source": [
    "import numpy as np\n",
    "import cv2\n",
    "import glob\n",
    "import matplotlib.pyplot as plt\n",
    "from tensorflow import keras\n",
    "import tensorflow as tf\n",
    "\n",
    "tf.config.get_visible_devices()"
   ]
  },
  {
   "cell_type": "code",
   "execution_count": null,
   "id": "43294cb4",
   "metadata": {
    "id": "43294cb4"
   },
   "outputs": [],
   "source": [
    "image_train_gen = keras.preprocessing.image.ImageDataGenerator(width_shift_range=0.2,\n",
    "                                                         height_shift_range=0.2,\n",
    "                                                         rescale=1 / 255.,\n",
    "                                                         horizontal_flip=True,\n",
    "                                                         fill_mode=\"nearest\",\n",
    "                                                         validation_split=0.2\n",
    "                                                         )\n",
    "\n",
    "image_test_gen = keras.preprocessing.image.ImageDataGenerator(width_shift_range=0.2,\n",
    "                                                         height_shift_range=0.2,\n",
    "                                                         rescale=1 / 255.,\n",
    "                                                         horizontal_flip=True,\n",
    "                                                         fill_mode=\"nearest\"\n",
    "                                                         )"
   ]
  },
  {
   "cell_type": "code",
   "execution_count": null,
   "id": "fca5367a",
   "metadata": {
    "colab": {
     "base_uri": "https://localhost:8080/"
    },
    "id": "fca5367a",
    "outputId": "6d46ee70-8c89-4997-d68a-d660f4c088e3"
   },
   "outputs": [
    {
     "name": "stdout",
     "output_type": "stream",
     "text": [
      "Found 42043 images belonging to 2 classes.\n"
     ]
    }
   ],
   "source": [
    "train_images = image_train_gen.flow_from_directory(\n",
    "    directory=\"scanner/train/\",\n",
    "    color_mode=\"rgb\",\n",
    "    class_mode=\"binary\",\n",
    "    subset='training',\n",
    "    seed=42\n",
    "    )"
   ]
  },
  {
   "cell_type": "code",
   "execution_count": null,
   "id": "7bb5b9ed",
   "metadata": {
    "colab": {
     "base_uri": "https://localhost:8080/"
    },
    "id": "7bb5b9ed",
    "outputId": "dd150c2a-1b62-4ca6-e7f6-5866b56eb787"
   },
   "outputs": [
    {
     "name": "stdout",
     "output_type": "stream",
     "text": [
      "Found 10510 images belonging to 2 classes.\n"
     ]
    }
   ],
   "source": [
    "valid_images = image_train_gen.flow_from_directory(\n",
    "    directory=\"scanner/train/\",\n",
    "    color_mode=\"rgb\",\n",
    "    class_mode=\"binary\",\n",
    "    subset='validation',\n",
    "    seed=42\n",
    "    )"
   ]
  },
  {
   "cell_type": "code",
   "execution_count": null,
   "id": "da4593c1",
   "metadata": {
    "colab": {
     "base_uri": "https://localhost:8080/"
    },
    "id": "da4593c1",
    "outputId": "d7f74a9a-3991-4c29-c9da-f11799e07e1b"
   },
   "outputs": [
    {
     "name": "stdout",
     "output_type": "stream",
     "text": [
      "Found 13452 images belonging to 2 classes.\n"
     ]
    }
   ],
   "source": [
    "test_images = image_test_gen.flow_from_directory(\n",
    "    directory=\"scanner/test/\",\n",
    "    color_mode=\"rgb\",\n",
    "    class_mode=\"binary\",\n",
    "    seed=42\n",
    "    )"
   ]
  },
  {
   "cell_type": "code",
   "execution_count": null,
   "id": "acb9cc59",
   "metadata": {
    "id": "acb9cc59",
    "outputId": "cbfcf854-fab7-4d1c-a7f4-6624a68e8f44"
   },
   "outputs": [
    {
     "data": {
      "text/plain": [
       "(256, 256, 3)"
      ]
     },
     "execution_count": 72,
     "metadata": {},
     "output_type": "execute_result"
    }
   ],
   "source": [
    "train_images.image_shape"
   ]
  },
  {
   "cell_type": "code",
   "execution_count": null,
   "id": "6ff42a5e",
   "metadata": {
    "id": "6ff42a5e"
   },
   "outputs": [],
   "source": [
    "model = keras.models.Sequential()\n",
    "model.add(keras.layers.Flatten(input_shape=[256,256,3]))\n",
    "model.add(keras.layers.Dense(1000, activation=\"relu\"))\n",
    "model.add(keras.layers.Dense(300, activation=\"relu\"))\n",
    "model.add(keras.layers.Dense(100, activation=\"relu\"))\n",
    "model.add(keras.layers.Dense(10, activation=\"relu\"))\n",
    "model.add(keras.layers.Dense(1, activation=\"sigmoid\"))  # \"sigmoid\" for binary classification"
   ]
  },
  {
   "cell_type": "code",
   "execution_count": null,
   "id": "b90e1472",
   "metadata": {
    "id": "b90e1472"
   },
   "outputs": [],
   "source": [
    "model.compile(loss=\"binary_crossentropy\",   ## for binary classification\n",
    "              optimizer=\"sgd\",\n",
    "              metrics=[\"accuracy\"])"
   ]
  },
  {
   "cell_type": "code",
   "execution_count": null,
   "id": "bcaa0fe7",
   "metadata": {
    "id": "bcaa0fe7"
   },
   "outputs": [],
   "source": [
    "early_stopping_cb = keras.callbacks.EarlyStopping(patience=10, restore_best_weights=True)\n",
    "checkpoint_cb = keras.callbacks.ModelCheckpoint(\"models/model-{epoch:02d}-{val_accuracy:.2f}.hdf5\",  monitor='val_accuracy', save_best_only=True)"
   ]
  },
  {
   "cell_type": "code",
   "execution_count": null,
   "id": "7726552f",
   "metadata": {
    "colab": {
     "base_uri": "https://localhost:8080/"
    },
    "id": "7726552f",
    "outputId": "30c8e05f-5465-43ff-fd01-f380479bd451"
   },
   "outputs": [
    {
     "name": "stdout",
     "output_type": "stream",
     "text": [
      "Epoch 1/100\n",
      "1314/1314 [==============================] - 677s 513ms/step - loss: 0.2486 - accuracy: 0.9168 - val_loss: 0.1932 - val_accuracy: 0.9372\n",
      "Epoch 2/100\n",
      "1314/1314 [==============================] - 670s 510ms/step - loss: 0.1418 - accuracy: 0.9547 - val_loss: 0.1402 - val_accuracy: 0.9586\n",
      "Epoch 3/100\n",
      "1314/1314 [==============================] - 670s 510ms/step - loss: 0.1112 - accuracy: 0.9659 - val_loss: 0.1192 - val_accuracy: 0.9621\n",
      "Epoch 4/100\n",
      "1314/1314 [==============================] - 669s 509ms/step - loss: 0.1125 - accuracy: 0.9648 - val_loss: 0.0985 - val_accuracy: 0.9668\n",
      "Epoch 5/100\n",
      "1314/1314 [==============================] - 670s 510ms/step - loss: 0.0933 - accuracy: 0.9714 - val_loss: 0.0976 - val_accuracy: 0.9710\n",
      "Epoch 6/100\n",
      "1314/1314 [==============================] - 666s 507ms/step - loss: 0.0870 - accuracy: 0.9725 - val_loss: 0.1424 - val_accuracy: 0.9590\n",
      "Epoch 7/100\n",
      "1314/1314 [==============================] - 669s 509ms/step - loss: 0.0839 - accuracy: 0.9731 - val_loss: 0.0761 - val_accuracy: 0.9762\n",
      "Epoch 8/100\n",
      "1314/1314 [==============================] - 669s 509ms/step - loss: 0.0783 - accuracy: 0.9751 - val_loss: 0.1204 - val_accuracy: 0.9681\n",
      "Epoch 9/100\n",
      "1314/1314 [==============================] - 670s 510ms/step - loss: 0.0738 - accuracy: 0.9766 - val_loss: 0.0664 - val_accuracy: 0.9765\n",
      "Epoch 10/100\n",
      "1314/1314 [==============================] - 673s 512ms/step - loss: 0.0669 - accuracy: 0.9782 - val_loss: 0.0663 - val_accuracy: 0.9776\n",
      "Epoch 11/100\n",
      "1314/1314 [==============================] - 670s 510ms/step - loss: 0.0624 - accuracy: 0.9787 - val_loss: 0.0500 - val_accuracy: 0.9808\n",
      "Epoch 12/100\n",
      "1314/1314 [==============================] - 671s 510ms/step - loss: 0.0597 - accuracy: 0.9794 - val_loss: 0.0566 - val_accuracy: 0.9787\n",
      "Epoch 13/100\n",
      "1314/1314 [==============================] - 670s 510ms/step - loss: 0.0562 - accuracy: 0.9809 - val_loss: 0.0498 - val_accuracy: 0.9821\n",
      "Epoch 14/100\n",
      "1314/1314 [==============================] - 671s 510ms/step - loss: 0.0559 - accuracy: 0.9808 - val_loss: 0.0591 - val_accuracy: 0.9811\n",
      "Epoch 15/100\n",
      "1314/1314 [==============================] - 673s 512ms/step - loss: 0.0538 - accuracy: 0.9802 - val_loss: 0.0396 - val_accuracy: 0.9848\n",
      "Epoch 16/100\n",
      "1314/1314 [==============================] - 669s 509ms/step - loss: 0.0525 - accuracy: 0.9810 - val_loss: 0.0475 - val_accuracy: 0.9824\n",
      "Epoch 17/100\n",
      "1314/1314 [==============================] - 671s 511ms/step - loss: 0.0506 - accuracy: 0.9814 - val_loss: 0.0397 - val_accuracy: 0.9853\n",
      "Epoch 18/100\n",
      "1314/1314 [==============================] - 673s 512ms/step - loss: 0.0500 - accuracy: 0.9817 - val_loss: 0.0381 - val_accuracy: 0.9854\n",
      "Epoch 19/100\n",
      "1314/1314 [==============================] - 670s 510ms/step - loss: 0.0485 - accuracy: 0.9818 - val_loss: 0.0558 - val_accuracy: 0.9814\n",
      "Epoch 20/100\n",
      "1314/1314 [==============================] - 673s 512ms/step - loss: 0.0471 - accuracy: 0.9825 - val_loss: 0.0484 - val_accuracy: 0.9825\n",
      "Epoch 21/100\n",
      "1314/1314 [==============================] - 672s 512ms/step - loss: 0.0485 - accuracy: 0.9814 - val_loss: 0.0420 - val_accuracy: 0.9846\n",
      "Epoch 22/100\n",
      "1314/1314 [==============================] - 673s 513ms/step - loss: 0.0467 - accuracy: 0.9818 - val_loss: 0.0381 - val_accuracy: 0.9839\n",
      "Epoch 23/100\n",
      "1314/1314 [==============================] - 671s 511ms/step - loss: 0.0472 - accuracy: 0.9823 - val_loss: 0.0466 - val_accuracy: 0.9828\n",
      "Epoch 24/100\n",
      "1314/1314 [==============================] - 671s 511ms/step - loss: 0.0459 - accuracy: 0.9828 - val_loss: 0.0448 - val_accuracy: 0.9822\n",
      "Epoch 25/100\n",
      "1314/1314 [==============================] - 672s 511ms/step - loss: 0.0447 - accuracy: 0.9833 - val_loss: 0.0404 - val_accuracy: 0.9838\n",
      "Epoch 26/100\n",
      "1314/1314 [==============================] - 674s 513ms/step - loss: 0.0452 - accuracy: 0.9825 - val_loss: 0.0392 - val_accuracy: 0.9847\n",
      "Epoch 27/100\n",
      "1314/1314 [==============================] - 673s 512ms/step - loss: 0.0444 - accuracy: 0.9830 - val_loss: 0.0353 - val_accuracy: 0.9861\n",
      "Epoch 28/100\n",
      "1314/1314 [==============================] - 671s 511ms/step - loss: 0.0436 - accuracy: 0.9837 - val_loss: 0.0456 - val_accuracy: 0.9838\n",
      "Epoch 29/100\n",
      "1314/1314 [==============================] - 672s 511ms/step - loss: 0.0430 - accuracy: 0.9836 - val_loss: 0.0370 - val_accuracy: 0.9852\n",
      "Epoch 30/100\n",
      "1314/1314 [==============================] - 671s 510ms/step - loss: 0.0425 - accuracy: 0.9838 - val_loss: 0.0397 - val_accuracy: 0.9839\n",
      "Epoch 31/100\n",
      "1314/1314 [==============================] - 673s 513ms/step - loss: 0.0421 - accuracy: 0.9835 - val_loss: 0.0433 - val_accuracy: 0.9830\n",
      "Epoch 32/100\n",
      "1314/1314 [==============================] - 671s 511ms/step - loss: 0.0420 - accuracy: 0.9837 - val_loss: 0.0419 - val_accuracy: 0.9838\n",
      "Epoch 33/100\n",
      "1314/1314 [==============================] - 675s 513ms/step - loss: 0.0414 - accuracy: 0.9840 - val_loss: 0.0374 - val_accuracy: 0.9853\n",
      "Epoch 34/100\n",
      "1314/1314 [==============================] - 673s 513ms/step - loss: 0.0413 - accuracy: 0.9844 - val_loss: 0.0407 - val_accuracy: 0.9845\n",
      "Epoch 35/100\n",
      "1314/1314 [==============================] - 673s 512ms/step - loss: 0.0416 - accuracy: 0.9841 - val_loss: 0.0402 - val_accuracy: 0.9848\n",
      "Epoch 36/100\n",
      "1314/1314 [==============================] - 673s 512ms/step - loss: 0.0427 - accuracy: 0.9835 - val_loss: 0.0439 - val_accuracy: 0.9833\n",
      "Epoch 37/100\n",
      "1314/1314 [==============================] - 673s 512ms/step - loss: 0.0410 - accuracy: 0.9844 - val_loss: 0.0412 - val_accuracy: 0.9846\n"
     ]
    }
   ],
   "source": [
    "history = model.fit(train_images, epochs=100, validation_data=valid_images, callbacks=[early_stopping_cb, checkpoint_cb])"
   ]
  },
  {
   "cell_type": "code",
   "execution_count": null,
   "id": "e6BKkPTB0Zs9",
   "metadata": {
    "id": "e6BKkPTB0Zs9"
   },
   "outputs": [],
   "source": []
  }
 ],
 "metadata": {
  "colab": {
   "collapsed_sections": [],
   "name": "Scraper Classifier.ipynb",
   "provenance": []
  },
  "kernelspec": {
   "display_name": "Python 3 (ipykernel)",
   "language": "python",
   "name": "python3"
  },
  "language_info": {
   "codemirror_mode": {
    "name": "ipython",
    "version": 3
   },
   "file_extension": ".py",
   "mimetype": "text/x-python",
   "name": "python",
   "nbconvert_exporter": "python",
   "pygments_lexer": "ipython3",
   "version": "3.8.12"
  }
 },
 "nbformat": 4,
 "nbformat_minor": 5
}
